{
 "nbformat": 4,
 "nbformat_minor": 0,
 "metadata": {
  "colab": {
   "provenance": [],
   "toc_visible": true,
   "authorship_tag": "ABX9TyM1+bks4FJT4VHacIoxPb0V"
  },
  "kernelspec": {
   "name": "python3",
   "display_name": "Python 3 (ipykernel)",
   "language": "python"
  },
  "language_info": {
   "name": "python"
  }
 },
 "cells": [
  {
   "metadata": {},
   "cell_type": "markdown",
   "source": "## 问题分析\n"
  },
  {
   "metadata": {},
   "cell_type": "markdown",
   "source": "## DBSCAN"
  },
  {
   "metadata": {},
   "cell_type": "markdown",
   "source": [
    "\n",
    "### 1. 环境准备"
   ]
  },
  {
   "metadata": {
    "jupyter": {
     "is_executing": true
    }
   },
   "cell_type": "code",
   "source": [
    "!pip install numpy==2.2.0\n",
    "!pip install scikit-learn==1.6.0\n",
    "!pip install matplotlib==3.9.3"
   ],
   "outputs": [],
   "execution_count": null
  },
  {
   "metadata": {
    "ExecuteTime": {
     "end_time": "2025-04-22T14:10:52.014394Z",
     "start_time": "2025-04-22T14:10:51.203621Z"
    }
   },
   "cell_type": "code",
   "source": [
    "import numpy as np\n",
    "import matplotlib.pyplot as plt\n",
    "from sklearn.decomposition import PCA\n",
    "from sklearn import datasets\n",
    "from sklearn.preprocessing import StandardScaler"
   ],
   "outputs": [],
   "execution_count": 1
  },
  {
   "metadata": {},
   "cell_type": "markdown",
   "source": [
    "### 2. 数据分析\n",
    "\n"
   ]
  },
  {
   "metadata": {
    "ExecuteTime": {
     "end_time": "2025-04-22T14:16:16.430986Z",
     "start_time": "2025-04-22T14:16:16.426162Z"
    }
   },
   "cell_type": "code",
   "source": [
    "np.random.seed(42) #设定随机数种子为 42，保证每次运行生成的随机数一样（可复现结果）\n",
    "mean = [0, 0]  #mean 是均值，二维的 [0, 0]，意思是你的二维高斯分布中心在 (0, 0)。\n",
    "cov = [[3, 2], [2, 2]] #cov 是协方差矩阵（covariance matrix）：\n",
    "X = np.random.multivariate_normal(mean=mean, cov=cov, size=200) # 生成多元正态分布随机样本\n",
    "X"
   ],
   "outputs": [
    {
     "data": {
      "text/plain": [
       "array([[-7.79842558e-01, -7.25035362e-01],\n",
       "       [-1.71097070e+00, -5.64228380e-02],\n",
       "       [ 4.89591649e-01,  1.85568480e-01],\n",
       "       [-2.97122622e+00, -1.67515888e+00],\n",
       "       [ 5.69236811e-01,  9.00239014e-01],\n",
       "       [ 9.69916161e-01,  3.66038690e-01],\n",
       "       [ 3.72329343e-01, -1.31659722e+00],\n",
       "       [ 3.13291389e+00,  1.97374029e+00],\n",
       "       [ 1.57697817e+00,  1.49525938e+00],\n",
       "       [ 2.10410746e+00,  4.56393273e-01],\n",
       "       [-2.37531795e+00, -2.04426174e+00],\n",
       "       [ 4.66901868e-01, -8.32352558e-01],\n",
       "       [ 8.71231068e-01,  7.73420205e-01],\n",
       "       [ 1.78452439e+00,  1.70892989e+00],\n",
       "       [ 1.12999928e+00,  6.37231499e-01],\n",
       "       [ 2.58134249e-01,  1.75760187e+00],\n",
       "       [ 4.53736035e-01, -5.34292484e-01],\n",
       "       [-8.87208561e-01, -1.71831447e+00],\n",
       "       [ 4.46952492e-01, -1.29730430e+00],\n",
       "       [ 2.15569151e+00,  1.84849172e+00],\n",
       "       [-1.31299097e+00, -8.81189775e-01],\n",
       "       [ 3.17385058e-01, -5.14359599e-03],\n",
       "       [ 2.78232697e+00,  1.56765052e+00],\n",
       "       [ 3.44679939e-01,  1.15718228e+00],\n",
       "       [ 1.39975837e-01, -1.37180007e+00],\n",
       "       [-3.88653583e-01, -6.26950406e-01],\n",
       "       [ 8.90296242e-01,  1.20897763e+00],\n",
       "       [-2.11511254e+00, -8.69082742e-01],\n",
       "       [ 1.53876950e+00,  9.41672646e-01],\n",
       "       [-9.55191741e-01,  7.37420803e-02],\n",
       "       [ 8.82313156e-01,  5.32921415e-01],\n",
       "       [ 2.34989155e+00,  8.29833926e-01],\n",
       "       [-1.92049678e+00, -3.60132197e-01],\n",
       "       [-2.87712763e-01,  6.18405808e-01],\n",
       "       [-3.45905372e-01, -8.12025175e-01],\n",
       "       [-1.23513098e+00,  3.27708380e-01],\n",
       "       [-5.77277361e-01,  8.63696976e-01],\n",
       "       [ 4.07524173e+00,  3.87231418e+00],\n",
       "       [-2.46931957e-02, -2.70469134e-01],\n",
       "       [ 6.55455898e-01, -1.15794690e+00],\n",
       "       [ 2.24280443e-01,  4.75115021e-01],\n",
       "       [-2.27674156e+00, -2.21301311e+00],\n",
       "       [ 1.56550929e+00,  8.00798043e-01],\n",
       "       [-1.67498313e+00, -1.03161099e+00],\n",
       "       [ 6.82660593e-01,  9.64189572e-01],\n",
       "       [-5.58143763e-01,  3.77951126e-01],\n",
       "       [ 1.31538064e+00,  7.51756658e-01],\n",
       "       [ 1.25646613e+00, -2.48446483e-01],\n",
       "       [-6.04877905e-01, -2.52967805e-01],\n",
       "       [ 8.69854666e-02, -1.29155111e-01],\n",
       "       [ 2.55409335e+00,  1.64080127e+00],\n",
       "       [ 9.03862686e-01,  3.17397881e-02],\n",
       "       [ 1.06864015e-01,  4.22870829e-01],\n",
       "       [-3.24640717e+00, -2.38805928e+00],\n",
       "       [-4.03232260e-01, -3.77374554e-01],\n",
       "       [ 3.24092670e+00,  2.50816540e+00],\n",
       "       [-1.10515806e+00,  1.20643229e+00],\n",
       "       [ 2.00947022e-01,  4.10217752e-01],\n",
       "       [ 5.34668094e-01, -5.64323584e-01],\n",
       "       [-2.23027608e+00, -1.10966512e+00],\n",
       "       [-9.61076166e-01, -1.51434130e+00],\n",
       "       [-1.79025939e+00, -2.57545546e+00],\n",
       "       [-1.88053926e+00,  3.71871226e-01],\n",
       "       [ 1.89826613e+00,  1.00638757e+00],\n",
       "       [ 3.74086026e-02, -3.93750682e-01],\n",
       "       [ 2.58249843e+00,  2.07395204e+00],\n",
       "       [ 1.59532925e+00,  1.64344966e+00],\n",
       "       [ 9.16194789e-01,  2.01740789e+00],\n",
       "       [ 1.44979347e+00,  8.61407990e-01],\n",
       "       [-8.67927649e-01, -1.71167853e+00],\n",
       "       [-9.15570675e-01,  3.83244893e-01],\n",
       "       [ 2.63085217e+00,  2.20921401e+00],\n",
       "       [-7.56085937e-01,  6.64575371e-02],\n",
       "       [ 2.62040590e+00,  9.36665561e-01],\n",
       "       [-9.99674000e-01, -5.31031809e-01],\n",
       "       [-5.62864592e-01, -1.48428139e-01],\n",
       "       [ 1.05013315e+00,  1.01503023e+00],\n",
       "       [-2.02271524e-01, -7.58039200e-01],\n",
       "       [-3.33399162e+00, -2.20504575e+00],\n",
       "       [ 1.73793553e+00,  1.90849480e+00],\n",
       "       [ 1.32007621e+00,  1.69189622e+00],\n",
       "       [-1.61599194e+00, -1.95116491e+00],\n",
       "       [-1.78998608e+00, -1.05081104e+00],\n",
       "       [-2.15682107e+00, -9.05423975e-02],\n",
       "       [ 7.20239863e-01, -7.08503027e-02],\n",
       "       [ 1.82987825e+00,  7.43382117e-01],\n",
       "       [-9.22296866e-03,  2.79392932e-01],\n",
       "       [-8.02865316e-01,  6.80395223e-02],\n",
       "       [-6.14199046e-01,  7.41528768e-01],\n",
       "       [-6.62929644e-01,  1.76755237e+00],\n",
       "       [-7.03979522e-01, -1.26972915e+00],\n",
       "       [ 1.60616933e+00,  1.65937321e+00],\n",
       "       [ 8.52312940e-02,  6.66362146e-01],\n",
       "       [-7.66986145e-01, -6.60026598e-01],\n",
       "       [ 2.04281648e+00,  3.22394242e-01],\n",
       "       [ 4.02697699e-01,  1.03385800e+00],\n",
       "       [ 1.47222781e-01, -9.31568718e-01],\n",
       "       [-4.48554246e-01, -2.65242124e-02],\n",
       "       [ 1.42527202e+00,  1.24195973e+00],\n",
       "       [ 3.67766863e-01, -6.73039640e-01],\n",
       "       [-8.30829161e-01, -1.77589491e-01],\n",
       "       [-2.25266548e+00, -8.73552939e-01],\n",
       "       [ 2.70137497e+00,  1.32132437e+00],\n",
       "       [-1.07639365e+00, -4.08802883e-01],\n",
       "       [-2.43702590e+00,  1.33381970e+00],\n",
       "       [-1.42379575e+00, -1.57703285e-01],\n",
       "       [-1.87143803e+00, -9.13955698e-01],\n",
       "       [ 2.21456662e-01,  8.10500903e-01],\n",
       "       [ 1.39750225e+00,  8.92190863e-01],\n",
       "       [ 7.83713416e-01,  6.80685546e-01],\n",
       "       [-3.13566656e+00, -4.01690145e+00],\n",
       "       [-4.98095514e-01, -1.74370712e+00],\n",
       "       [ 3.50721129e-01,  1.18863739e+00],\n",
       "       [ 3.30967013e-01, -6.46977621e-01],\n",
       "       [ 9.27231456e-01,  1.29487504e+00],\n",
       "       [ 1.14131684e+00,  1.07295519e+00],\n",
       "       [ 1.88808263e-01, -3.99977583e-01],\n",
       "       [-3.86750607e+00, -2.48711655e+00],\n",
       "       [ 3.33321179e+00,  2.75912915e+00],\n",
       "       [ 7.66708735e-01,  1.31473793e+00],\n",
       "       [ 1.38091018e+00,  9.81794619e-01],\n",
       "       [-1.20290506e+00, -2.11898657e-01],\n",
       "       [ 2.15692668e+00,  1.40307059e+00],\n",
       "       [ 1.06576842e+00,  2.83279817e-01],\n",
       "       [-3.13705251e+00, -2.10912067e+00],\n",
       "       [ 1.74858711e+00,  2.13633049e+00],\n",
       "       [-3.99323414e+00, -2.25047244e+00],\n",
       "       [ 2.75508130e+00,  1.74430845e+00],\n",
       "       [-1.84438636e+00, -2.03455036e+00],\n",
       "       [-1.06280147e+00, -1.79057879e-01],\n",
       "       [ 1.58468157e+00,  1.18727608e+00],\n",
       "       [ 5.87389092e+00,  3.72563070e+00],\n",
       "       [ 9.33649803e-01, -3.19262510e-01],\n",
       "       [-2.16527593e+00, -2.89202558e+00],\n",
       "       [ 6.87508881e-01,  6.46622896e-01],\n",
       "       [-1.84117673e+00, -2.64378246e+00],\n",
       "       [-1.96227794e+00, -1.52350376e+00],\n",
       "       [ 1.46399792e+00,  1.53125764e+00],\n",
       "       [-9.05168512e-02, -5.74901958e-01],\n",
       "       [ 3.95071382e-02, -2.92846941e-01],\n",
       "       [-4.60915293e-01,  1.96369122e-01],\n",
       "       [-2.16554621e+00, -2.73066801e+00],\n",
       "       [-2.79534777e+00, -3.82244612e+00],\n",
       "       [ 1.57823227e-02,  5.06554359e-01],\n",
       "       [-2.19282539e-01, -6.94326325e-01],\n",
       "       [ 5.51256377e-01,  1.62491097e-02],\n",
       "       [ 6.45945380e-01,  1.21807029e+00],\n",
       "       [-3.18652773e-01, -8.30894146e-01],\n",
       "       [-1.63963965e+00, -1.02203662e+00],\n",
       "       [-1.62497080e+00, -7.39802006e-01],\n",
       "       [ 1.62382965e+00,  7.97252537e-01],\n",
       "       [-1.50674280e+00, -6.63671061e-01],\n",
       "       [-1.26241652e-02,  8.87074137e-02],\n",
       "       [-1.90979922e+00, -1.98809183e+00],\n",
       "       [-8.38608704e-01, -8.24623335e-01],\n",
       "       [-8.12969438e-02,  8.59582687e-01],\n",
       "       [-1.72103594e+00, -6.60333325e-01],\n",
       "       [-2.20624483e+00, -1.70493906e+00],\n",
       "       [-1.02158912e+00, -1.05828072e+00],\n",
       "       [-4.92679320e-01, -4.94002606e-01],\n",
       "       [-4.05811078e-01,  1.83130155e-01],\n",
       "       [ 5.24777324e-01,  2.16750068e+00],\n",
       "       [ 2.18834124e+00,  6.88592995e-01],\n",
       "       [-2.27220223e+00, -1.10902409e+00],\n",
       "       [-1.30671287e+00, -4.92391819e-01],\n",
       "       [ 3.86245367e-01, -4.52191704e-01],\n",
       "       [ 1.48329701e-01, -4.53055809e-01],\n",
       "       [-1.58162304e+00, -1.35843351e+00],\n",
       "       [ 1.52063291e+00,  9.17285370e-01],\n",
       "       [-4.65426106e-01, -8.36965887e-01],\n",
       "       [ 1.28485088e+00,  1.20789734e+00],\n",
       "       [-2.05806774e-01, -5.86560495e-01],\n",
       "       [ 6.98401600e-01,  7.40235361e-01],\n",
       "       [ 3.01129036e+00,  1.16876619e+00],\n",
       "       [ 1.29643170e+00,  8.32911188e-01],\n",
       "       [-1.12459569e+00,  3.61355396e-01],\n",
       "       [-1.37863781e+00, -1.21076859e+00],\n",
       "       [ 4.40540533e-01, -4.98238445e-01],\n",
       "       [ 1.48793241e-01, -1.26321300e-01],\n",
       "       [-2.06180615e-01, -8.55918846e-01],\n",
       "       [-1.49887194e+00,  1.17335224e-01],\n",
       "       [ 1.93939510e-02,  3.52611213e-01],\n",
       "       [-9.98314756e-01, -1.11651679e+00],\n",
       "       [-3.82376000e-01, -2.87971570e-01],\n",
       "       [ 1.50568265e-01, -5.31827774e-01],\n",
       "       [-2.44194198e-01,  2.27695961e-01],\n",
       "       [-2.83380301e+00, -1.40670495e+00],\n",
       "       [-3.31204587e+00, -3.23059849e+00],\n",
       "       [-1.54320453e+00, -1.05087624e+00],\n",
       "       [-3.35700667e+00, -3.30010459e+00],\n",
       "       [ 1.65786617e+00,  7.90886675e-01],\n",
       "       [ 3.78967945e+00,  2.51721748e+00],\n",
       "       [ 1.21666375e+00,  1.07628474e+00],\n",
       "       [-1.33985779e+00,  5.29999062e-01],\n",
       "       [-1.36488796e+00, -1.55031594e+00],\n",
       "       [ 1.31196497e+00,  1.43760139e+00],\n",
       "       [ 1.47620933e+00,  2.69115624e+00],\n",
       "       [-1.79432035e+00, -1.79510678e+00],\n",
       "       [ 2.33224747e+00,  2.95832116e+00],\n",
       "       [-3.11586694e-01,  7.96581769e-01]])"
      ]
     },
     "execution_count": 6,
     "metadata": {},
     "output_type": "execute_result"
    }
   ],
   "execution_count": 6
  },
  {
   "metadata": {
    "ExecuteTime": {
     "end_time": "2025-04-22T14:21:36.428253Z",
     "start_time": "2025-04-22T14:21:36.340450Z"
    }
   },
   "cell_type": "code",
   "source": [
    "plt.figure()\n",
    "plt.scatter(X[:, 0], X[:, 1], edgecolor='k', alpha=0.7) # 取第一列，第二列，画散点图\n",
    "plt.title(\"Scatter Plot of Bivariate Normal Distribution\")\n",
    "plt.xlabel(\"X1\")\n",
    "plt.ylabel(\"X2\")\n",
    "plt.axis('equal')\n",
    "plt.grid(True)\n",
    "plt.show()"
   ],
   "outputs": [
    {
     "data": {
      "text/plain": [
       "<Figure size 640x480 with 1 Axes>"
      ],
      "image/png": "[encoded data removed]"
     },
     "metadata": {},
     "output_type": "display_data"
    }
   ],
   "execution_count": 7
  },
  {
   "metadata": {},
   "cell_type": "markdown",
   "source": "### 3. 数据处理"
  },
  {
   "metadata": {},
   "cell_type": "markdown",
   "source": "### 4. 模型训练"
  },
  {
   "metadata": {
    "ExecuteTime": {
     "end_time": "2025-04-22T14:24:50.890493Z",
     "start_time": "2025-04-22T14:24:50.860524Z"
    }
   },
   "cell_type": "code",
   "source": [
    "pca = PCA(n_components=2)\n",
    "X_pca = pca.fit_transform(X)"
   ],
   "outputs": [],
   "execution_count": 8
  },
  {
   "metadata": {
    "ExecuteTime": {
     "end_time": "2025-04-22T14:24:52.202017Z",
     "start_time": "2025-04-22T14:24:52.197312Z"
    }
   },
   "cell_type": "code",
   "source": [
    "components = pca.components_\n",
    "components #二维数组，每行对应一个主成分，每列是原始特征的权重（即主成分的坐标轴方向）。"
   ],
   "outputs": [
    {
     "data": {
      "text/plain": [
       "array([[ 0.78215821,  0.62307987],\n",
       "       [-0.62307987,  0.78215821]])"
      ]
     },
     "execution_count": 9,
     "metadata": {},
     "output_type": "execute_result"
    }
   ],
   "execution_count": 9
  },
  {
   "metadata": {
    "ExecuteTime": {
     "end_time": "2025-04-22T14:24:54.112125Z",
     "start_time": "2025-04-22T14:24:54.108719Z"
    }
   },
   "cell_type": "code",
   "source": [
    "#如果输出是 [0.7, 0.2]，这表示第一个主成分解释了 70% 的方差，第二个主成分解释了 20% 的方差。\n",
    "pca.explained_variance_ratio_"
   ],
   "outputs": [
    {
     "data": {
      "text/plain": [
       "array([0.9111946, 0.0888054])"
      ]
     },
     "execution_count": 10,
     "metadata": {},
     "output_type": "execute_result"
    }
   ],
   "execution_count": 10
  },
  {
   "metadata": {},
   "cell_type": "markdown",
   "source": "### 5. 模型评估"
  },
  {
   "metadata": {},
   "cell_type": "markdown",
   "source": "## HDBSCAN\n"
  }
 ]
}
